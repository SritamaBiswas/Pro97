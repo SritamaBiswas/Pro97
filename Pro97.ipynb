{
  "nbformat": 4,
  "nbformat_minor": 0,
  "metadata": {
    "colab": {
      "name": "Pro97.ipynb",
      "provenance": [],
      "authorship_tag": "ABX9TyOIVOngRoRb0hqhBO0z9CGL",
      "include_colab_link": true
    },
    "kernelspec": {
      "name": "python3",
      "display_name": "Python 3"
    },
    "language_info": {
      "name": "python"
    }
  },
  "cells": [
    {
      "cell_type": "markdown",
      "metadata": {
        "id": "view-in-github",
        "colab_type": "text"
      },
      "source": [
        "<a href=\"https://colab.research.google.com/github/SritamaBiswas/Pro97/blob/main/Pro97.ipynb\" target=\"_parent\"><img src=\"https://colab.research.google.com/assets/colab-badge.svg\" alt=\"Open In Colab\"/></a>"
      ]
    },
    {
      "cell_type": "code",
      "source": [
        "year=int(input(\"Enter the year:\"))\n",
        "if (year%4==0 and year%100!=0 or year%400==0):\n",
        "  print(year,\"is a leap year!!\")\n",
        "else:\n",
        " print(year,\"is not a Leap Year\")"
      ],
      "metadata": {
        "colab": {
          "base_uri": "https://localhost:8080/"
        },
        "id": "LKumwfg8uZCT",
        "outputId": "e98876ae-0dde-4143-85db-d1ea2d20ffb5"
      },
      "execution_count": 5,
      "outputs": [
        {
          "output_type": "stream",
          "name": "stdout",
          "text": [
            "Enter the year:1600\n",
            "1600 is a leap year!!\n"
          ]
        }
      ]
    }
  ]
}